{
 "cells": [
  {
   "cell_type": "markdown",
   "metadata": {},
   "source": [
    "# Predict The News Category"
   ]
  },
  {
   "cell_type": "code",
   "execution_count": 2,
   "metadata": {
    "collapsed": true
   },
   "outputs": [
    {
     "name": "stdout",
     "output_type": "stream",
     "text": [
      "Collecting tensorflow\n",
      "  Downloading tensorflow-2.5.0-cp38-cp38-win_amd64.whl (422.6 MB)\n",
      "Requirement already satisfied: wheel~=0.35 in c:\\users\\tlgus\\anaconda3\\lib\\site-packages (from tensorflow) (0.35.1)\n",
      "Requirement already satisfied: numpy~=1.19.2 in c:\\users\\tlgus\\anaconda3\\lib\\site-packages (from tensorflow) (1.19.2)\n",
      "Collecting wrapt~=1.12.1\n",
      "  Downloading wrapt-1.12.1.tar.gz (27 kB)\n",
      "Collecting google-pasta~=0.2\n",
      "  Downloading google_pasta-0.2.0-py3-none-any.whl (57 kB)\n",
      "Collecting flatbuffers~=1.12.0\n",
      "  Downloading flatbuffers-1.12-py2.py3-none-any.whl (15 kB)\n",
      "Collecting tensorflow-estimator<2.6.0,>=2.5.0rc0\n",
      "  Downloading tensorflow_estimator-2.5.0-py2.py3-none-any.whl (462 kB)\n",
      "Requirement already satisfied: typing-extensions~=3.7.4 in c:\\users\\tlgus\\anaconda3\\lib\\site-packages (from tensorflow) (3.7.4.3)\n",
      "Collecting keras-nightly~=2.5.0.dev\n",
      "  Downloading keras_nightly-2.5.0.dev2021032900-py2.py3-none-any.whl (1.2 MB)\n",
      "Collecting h5py~=3.1.0\n",
      "  Downloading h5py-3.1.0-cp38-cp38-win_amd64.whl (2.7 MB)\n",
      "Collecting keras-preprocessing~=1.1.2\n",
      "  Downloading Keras_Preprocessing-1.1.2-py2.py3-none-any.whl (42 kB)\n",
      "Collecting absl-py~=0.10\n",
      "  Downloading absl_py-0.12.0-py3-none-any.whl (129 kB)\n",
      "Collecting tensorboard~=2.5\n",
      "  Downloading tensorboard-2.5.0-py3-none-any.whl (6.0 MB)\n",
      "Collecting opt-einsum~=3.3.0\n",
      "  Downloading opt_einsum-3.3.0-py3-none-any.whl (65 kB)\n",
      "Collecting termcolor~=1.1.0\n",
      "  Downloading termcolor-1.1.0.tar.gz (3.9 kB)\n",
      "Collecting astunparse~=1.6.3\n",
      "  Downloading astunparse-1.6.3-py2.py3-none-any.whl (12 kB)\n",
      "Collecting gast==0.4.0\n",
      "  Downloading gast-0.4.0-py3-none-any.whl (9.8 kB)\n",
      "Requirement already satisfied: six~=1.15.0 in c:\\users\\tlgus\\anaconda3\\lib\\site-packages (from tensorflow) (1.15.0)\n",
      "Collecting grpcio~=1.34.0\n",
      "  Downloading grpcio-1.34.1-cp38-cp38-win_amd64.whl (2.9 MB)\n",
      "Collecting protobuf>=3.9.2\n",
      "  Downloading protobuf-3.17.2-py2.py3-none-any.whl (173 kB)\n",
      "Collecting tensorboard-data-server<0.7.0,>=0.6.0\n",
      "  Downloading tensorboard_data_server-0.6.1-py3-none-any.whl (2.4 kB)\n",
      "Collecting google-auth-oauthlib<0.5,>=0.4.1\n",
      "  Downloading google_auth_oauthlib-0.4.4-py2.py3-none-any.whl (18 kB)\n",
      "Requirement already satisfied: requests<3,>=2.21.0 in c:\\users\\tlgus\\anaconda3\\lib\\site-packages (from tensorboard~=2.5->tensorflow) (2.24.0)\n",
      "Requirement already satisfied: setuptools>=41.0.0 in c:\\users\\tlgus\\anaconda3\\lib\\site-packages (from tensorboard~=2.5->tensorflow) (50.3.1.post20201107)\n",
      "Collecting google-auth<2,>=1.6.3\n",
      "  Downloading google_auth-1.30.1-py2.py3-none-any.whl (146 kB)\n",
      "Collecting tensorboard-plugin-wit>=1.6.0\n",
      "  Downloading tensorboard_plugin_wit-1.8.0-py3-none-any.whl (781 kB)\n",
      "Collecting markdown>=2.6.8\n",
      "  Downloading Markdown-3.3.4-py3-none-any.whl (97 kB)\n",
      "Requirement already satisfied: werkzeug>=0.11.15 in c:\\users\\tlgus\\anaconda3\\lib\\site-packages (from tensorboard~=2.5->tensorflow) (1.0.1)\n",
      "Collecting requests-oauthlib>=0.7.0\n",
      "  Downloading requests_oauthlib-1.3.0-py2.py3-none-any.whl (23 kB)\n",
      "Requirement already satisfied: certifi>=2017.4.17 in c:\\users\\tlgus\\anaconda3\\lib\\site-packages (from requests<3,>=2.21.0->tensorboard~=2.5->tensorflow) (2020.6.20)\n",
      "Requirement already satisfied: urllib3!=1.25.0,!=1.25.1,<1.26,>=1.21.1 in c:\\users\\tlgus\\anaconda3\\lib\\site-packages (from requests<3,>=2.21.0->tensorboard~=2.5->tensorflow) (1.25.11)\n",
      "Requirement already satisfied: idna<3,>=2.5 in c:\\users\\tlgus\\anaconda3\\lib\\site-packages (from requests<3,>=2.21.0->tensorboard~=2.5->tensorflow) (2.10)\n",
      "Requirement already satisfied: chardet<4,>=3.0.2 in c:\\users\\tlgus\\anaconda3\\lib\\site-packages (from requests<3,>=2.21.0->tensorboard~=2.5->tensorflow) (3.0.4)\n",
      "Collecting cachetools<5.0,>=2.0.0\n",
      "  Downloading cachetools-4.2.2-py3-none-any.whl (11 kB)\n",
      "Collecting pyasn1-modules>=0.2.1\n",
      "  Downloading pyasn1_modules-0.2.8-py2.py3-none-any.whl (155 kB)\n",
      "Collecting rsa<5,>=3.1.4; python_version >= \"3.6\"\n",
      "  Downloading rsa-4.7.2-py3-none-any.whl (34 kB)\n",
      "Collecting oauthlib>=3.0.0\n",
      "  Downloading oauthlib-3.1.1-py2.py3-none-any.whl (146 kB)\n",
      "Collecting pyasn1<0.5.0,>=0.4.6\n",
      "  Downloading pyasn1-0.4.8-py2.py3-none-any.whl (77 kB)\n",
      "Building wheels for collected packages: wrapt, termcolor\n",
      "  Building wheel for wrapt (setup.py): started\n",
      "  Building wheel for wrapt (setup.py): finished with status 'done'\n",
      "  Created wheel for wrapt: filename=wrapt-1.12.1-py3-none-any.whl size=19558 sha256=9bb374896ccf405ef3c0385131d0b285fd5df9ef3d4103f497f9fc52bb8be4e2\n",
      "  Stored in directory: c:\\users\\tlgus\\appdata\\local\\pip\\cache\\wheels\\5f\\fd\\9e\\b6cf5890494cb8ef0b5eaff72e5d55a70fb56316007d6dfe73\n",
      "  Building wheel for termcolor (setup.py): started\n",
      "  Building wheel for termcolor (setup.py): finished with status 'done'\n",
      "  Created wheel for termcolor: filename=termcolor-1.1.0-py3-none-any.whl size=4835 sha256=28eac5c95c4d166c26758e12d36cd0f8498ffecd5b85deea9d16c75b537b4b83\n",
      "  Stored in directory: c:\\users\\tlgus\\appdata\\local\\pip\\cache\\wheels\\a0\\16\\9c\\5473df82468f958445479c59e784896fa24f4a5fc024b0f501\n",
      "Successfully built wrapt termcolor\n",
      "Installing collected packages: wrapt, google-pasta, flatbuffers, tensorflow-estimator, keras-nightly, h5py, keras-preprocessing, absl-py, tensorboard-data-server, cachetools, pyasn1, pyasn1-modules, rsa, google-auth, oauthlib, requests-oauthlib, google-auth-oauthlib, protobuf, grpcio, tensorboard-plugin-wit, markdown, tensorboard, opt-einsum, termcolor, astunparse, gast, tensorflow\n",
      "  Attempting uninstall: wrapt\n",
      "    Found existing installation: wrapt 1.11.2\n",
      "    Uninstalling wrapt-1.11.2:\n",
      "      Successfully uninstalled wrapt-1.11.2\n",
      "  Attempting uninstall: h5py\n",
      "    Found existing installation: h5py 2.10.0\n",
      "    Uninstalling h5py-2.10.0:\n",
      "      Successfully uninstalled h5py-2.10.0\n",
      "Successfully installed absl-py-0.12.0 astunparse-1.6.3 cachetools-4.2.2 flatbuffers-1.12 gast-0.4.0 google-auth-1.30.1 google-auth-oauthlib-0.4.4 google-pasta-0.2.0 grpcio-1.34.1 h5py-3.1.0 keras-nightly-2.5.0.dev2021032900 keras-preprocessing-1.1.2 markdown-3.3.4 oauthlib-3.1.1 opt-einsum-3.3.0 protobuf-3.17.2 pyasn1-0.4.8 pyasn1-modules-0.2.8 requests-oauthlib-1.3.0 rsa-4.7.2 tensorboard-2.5.0 tensorboard-data-server-0.6.1 tensorboard-plugin-wit-1.8.0 tensorflow-2.5.0 tensorflow-estimator-2.5.0 termcolor-1.1.0 wrapt-1.12.1\n"
     ]
    }
   ],
   "source": [
    "!pip install tensorflow\n",
    "!pip install wget"
   ]
  },
  {
   "cell_type": "markdown",
   "metadata": {},
   "source": [
    "분석에 앞서 필요한 모듈을 불러온다."
   ]
  },
  {
   "cell_type": "code",
   "execution_count": 85,
   "metadata": {},
   "outputs": [],
   "source": [
    "import pandas as pd\n",
    "import numpy as np\n",
    "import tensorflow as tf\n",
    "from tensorflow import keras\n",
    "import matplotlib.pyplot as plt\n",
    "import os\n",
    "import wget\n",
    "import zipfile\n",
    "\n",
    "from tensorflow.keras.preprocessing.text import Tokenizer\n",
    "from tensorflow.keras.preprocessing.sequence import pad_sequences\n",
    "from sklearn.utils import shuffle\n",
    "from sklearn.model_selection import train_test_split\n",
    "from sklearn.metrics import classification_report, confusion_matrix\n",
    "from tensorflow.keras.layers import Embedding\n",
    "import seaborn as sns\n",
    "from collections import Counter"
   ]
  },
  {
   "cell_type": "markdown",
   "metadata": {},
   "source": [
    "### load dataset"
   ]
  },
  {
   "cell_type": "markdown",
   "metadata": {},
   "source": [
    "본 분석은 MachineHack 사이트에서 개최하는 'Predict The News Category Hackathon' 공모전 데이터를 다룬다.\n",
    "\n",
    "https://machinehack.com/hackathons/predict_the_news_category_hackathon"
   ]
  },
  {
   "cell_type": "code",
   "execution_count": 2,
   "metadata": {},
   "outputs": [],
   "source": [
    "train = pd.read_excel('Data_Train.xlsx')\n",
    "test = pd.read_excel('Data_Test.xlsx')\n",
    "\n",
    "submission = pd.read_excel('Sample_submission.xlsx')"
   ]
  },
  {
   "cell_type": "markdown",
   "metadata": {},
   "source": [
    "train set의 구성은 아래와 같다.\n",
    "* STORY(X) : 기사 전문\n",
    "* SECTION(Y) : 기사의 카테고리"
   ]
  },
  {
   "cell_type": "code",
   "execution_count": 3,
   "metadata": {},
   "outputs": [
    {
     "data": {
      "text/html": [
       "<div>\n",
       "<style scoped>\n",
       "    .dataframe tbody tr th:only-of-type {\n",
       "        vertical-align: middle;\n",
       "    }\n",
       "\n",
       "    .dataframe tbody tr th {\n",
       "        vertical-align: top;\n",
       "    }\n",
       "\n",
       "    .dataframe thead th {\n",
       "        text-align: right;\n",
       "    }\n",
       "</style>\n",
       "<table border=\"1\" class=\"dataframe\">\n",
       "  <thead>\n",
       "    <tr style=\"text-align: right;\">\n",
       "      <th></th>\n",
       "      <th>STORY</th>\n",
       "      <th>SECTION</th>\n",
       "    </tr>\n",
       "  </thead>\n",
       "  <tbody>\n",
       "    <tr>\n",
       "      <th>0</th>\n",
       "      <td>But the most painful was the huge reversal in ...</td>\n",
       "      <td>3</td>\n",
       "    </tr>\n",
       "    <tr>\n",
       "      <th>1</th>\n",
       "      <td>How formidable is the opposition alliance amon...</td>\n",
       "      <td>0</td>\n",
       "    </tr>\n",
       "    <tr>\n",
       "      <th>2</th>\n",
       "      <td>Most Asian currencies were trading lower today...</td>\n",
       "      <td>3</td>\n",
       "    </tr>\n",
       "    <tr>\n",
       "      <th>3</th>\n",
       "      <td>If you want to answer any question, click on ‘...</td>\n",
       "      <td>1</td>\n",
       "    </tr>\n",
       "    <tr>\n",
       "      <th>4</th>\n",
       "      <td>In global markets, gold prices edged up today ...</td>\n",
       "      <td>3</td>\n",
       "    </tr>\n",
       "  </tbody>\n",
       "</table>\n",
       "</div>"
      ],
      "text/plain": [
       "                                               STORY  SECTION\n",
       "0  But the most painful was the huge reversal in ...        3\n",
       "1  How formidable is the opposition alliance amon...        0\n",
       "2  Most Asian currencies were trading lower today...        3\n",
       "3  If you want to answer any question, click on ‘...        1\n",
       "4  In global markets, gold prices edged up today ...        3"
      ]
     },
     "execution_count": 3,
     "metadata": {},
     "output_type": "execute_result"
    }
   ],
   "source": [
    "train.head()"
   ]
  },
  {
   "cell_type": "markdown",
   "metadata": {},
   "source": [
    "SECTION은 총 네 개의 카테고리로 나뉘어있다. 즉, 본 분석은 multi class classification에 해당한다."
   ]
  },
  {
   "cell_type": "code",
   "execution_count": 4,
   "metadata": {},
   "outputs": [
    {
     "name": "stdout",
     "output_type": "stream",
     "text": [
      "We have a total of 4 categories\n"
     ]
    },
    {
     "data": {
      "text/plain": [
       "1    2772\n",
       "2    1924\n",
       "0    1686\n",
       "3    1246\n",
       "Name: SECTION, dtype: int64"
      ]
     },
     "execution_count": 4,
     "metadata": {},
     "output_type": "execute_result"
    }
   ],
   "source": [
    "print(\"We have a total of {} categories\".format(train['SECTION'].nunique()))\n",
    "\n",
    "train['SECTION'].value_counts()"
   ]
  },
  {
   "cell_type": "markdown",
   "metadata": {},
   "source": [
    "### train set quality check"
   ]
  },
  {
   "cell_type": "markdown",
   "metadata": {},
   "source": [
    "데이터 전처리에 앞서 train set에 중복값, 결측값이 있는지 확인한다. 해당 작업을 거치면 학습을 더욱 용이하게 하고, 성능 향상도 기대할 수 있다.\n",
    "\n",
    "* 중복된 observation 77개 제거\n",
    "* 결측 observation은 없는 것으로 확인되었다."
   ]
  },
  {
   "cell_type": "code",
   "execution_count": 5,
   "metadata": {},
   "outputs": [
    {
     "name": "stdout",
     "output_type": "stream",
     "text": [
      "77\n"
     ]
    }
   ],
   "source": [
    "print(train.duplicated().sum())\n",
    "\n",
    "train = train.drop_duplicates(keep='last')"
   ]
  },
  {
   "cell_type": "code",
   "execution_count": 6,
   "metadata": {},
   "outputs": [
    {
     "data": {
      "text/plain": [
       "STORY      0\n",
       "SECTION    0\n",
       "dtype: int64"
      ]
     },
     "execution_count": 6,
     "metadata": {},
     "output_type": "execute_result"
    }
   ],
   "source": [
    "train.isnull().sum()"
   ]
  },
  {
   "cell_type": "markdown",
   "metadata": {},
   "source": [
    "독립변수(기사)의 길이가 10자 내외로 유난히 짧은 경우, 분석에 방해가 되는 observation이 될 수 있으므로 제거할 목적으로 독립변수의 길이를 확인하였다.\n",
    "\n",
    "확인 결과, minimum 길이가 100자로 low quality 기사는 없는 것으로 판단하였다."
   ]
  },
  {
   "cell_type": "code",
   "execution_count": 7,
   "metadata": {},
   "outputs": [
    {
     "data": {
      "text/plain": [
       "count    7551.000000\n",
       "mean      653.703351\n",
       "std       522.284160\n",
       "min       100.000000\n",
       "25%       316.000000\n",
       "50%       537.000000\n",
       "75%       836.000000\n",
       "max      6015.000000\n",
       "Name: STORY, dtype: float64"
      ]
     },
     "execution_count": 7,
     "metadata": {},
     "output_type": "execute_result"
    }
   ],
   "source": [
    "train.STORY.str.len().describe()"
   ]
  },
  {
   "cell_type": "code",
   "execution_count": 20,
   "metadata": {
    "scrolled": true
   },
   "outputs": [
    {
     "name": "stdout",
     "output_type": "stream",
     "text": [
      "Having the chance to reimagine Pinhead and the Cenobites for a new audience is a nightmare-come-true\n",
      "The movie is led by Margot Robbie’s Harley Quinn, who was the Joker’s love-interest in Suicide Squad\n",
      "(But) things have changed today in terms of action, there is technology to help you,” Sunny told PTI\n",
      "According to sources, it had 17 crore footfalls and had earned Rs 256 crore upon its release in 2001\n",
      "It’s hard to remember who any of the cast members were 10 years ago,” Harington told People magazine\n",
      "The actor said, “A person like me who has never had patience, this is God’s way to teach me patience\n",
      "The directorial debut of Prithviraj Sukumaran set the box office on fire when it released last month\n"
     ]
    }
   ],
   "source": [
    "for i in train.STORY :\n",
    "    if len(i)==100 : print(i)"
   ]
  },
  {
   "cell_type": "markdown",
   "metadata": {},
   "source": [
    "### data shuffling\n",
    "\n",
    "train set 내에 특정 SECTION이 몰려있을 수 있기 때문에 shuffling을 진행한다."
   ]
  },
  {
   "cell_type": "code",
   "execution_count": 8,
   "metadata": {},
   "outputs": [],
   "source": [
    "train = shuffle(train)"
   ]
  },
  {
   "cell_type": "markdown",
   "metadata": {},
   "source": [
    "### data tokenizing and padding\n",
    "\n",
    "데이터셋을 모델에 input할 수 있는 형태를 만들어준다."
   ]
  },
  {
   "cell_type": "markdown",
   "metadata": {},
   "source": [
    "제공된 train set을 train/valid set으로 나눠준다. 비율은 0.2로 한다."
   ]
  },
  {
   "cell_type": "code",
   "execution_count": 9,
   "metadata": {},
   "outputs": [],
   "source": [
    "X, Y = train.STORY, train.SECTION\n",
    "\n",
    "train_x, valid_x, train_y, valid_y = train_test_split(X, Y, test_size=0.2, random_state=79)"
   ]
  },
  {
   "cell_type": "code",
   "execution_count": 10,
   "metadata": {},
   "outputs": [],
   "source": [
    "vocab_size = 30000\n",
    "max_length = 500\n",
    "trunc_type = 'post'\n",
    "padding_type = 'post'\n",
    "oov_tok = '<OOV>'"
   ]
  },
  {
   "cell_type": "markdown",
   "metadata": {},
   "source": [
    "tokenizer 옵션은 아래와 같이 설정한다.\n",
    "* num_words = vocab_size = 30000 : STORY 내 빈도수 기준 30,000개의 단어를 토큰화한다.\n",
    "* oov_token = oov_tok = '\\<OOV\\>' : out-of-vocabulary words를 '\\<OOV\\>'로 대체하여 표시한다."
   ]
  },
  {
   "cell_type": "code",
   "execution_count": 11,
   "metadata": {},
   "outputs": [],
   "source": [
    "tokenizer = tf.keras.preprocessing.text.Tokenizer(num_words = vocab_size,\n",
    "                                                  oov_token = oov_tok)\n",
    "tokenizer.fit_on_texts(train_x)"
   ]
  },
  {
   "cell_type": "markdown",
   "metadata": {},
   "source": [
    "train set 토큰화 결과이다. 빈도수 기준 10개 단어를 출력한 결과는 아래와 같다."
   ]
  },
  {
   "cell_type": "code",
   "execution_count": 29,
   "metadata": {
    "scrolled": false
   },
   "outputs": [
    {
     "name": "stdout",
     "output_type": "stream",
     "text": [
      "<OOV>\n",
      "the\n",
      "to\n",
      "of\n",
      "and\n",
      "in\n",
      "a\n",
      "is\n",
      "on\n"
     ]
    }
   ],
   "source": [
    "word_index = tokenizer.word_index\n",
    "\n",
    "for key, value in word_index.items() :\n",
    "    if value in range(1,10) : print(key)"
   ]
  },
  {
   "cell_type": "markdown",
   "metadata": {},
   "source": [
    "train set을 모델에 input할 수 있도록 sequence로 변환한다.\n",
    "\n",
    "* texts_to_sequences(x) : train set의 STORY 기사 전문 텍스트 각 단어를 상응하는 숫자로 바꿔준다.\n",
    "\n",
    "* pad_sequences(x) : 모델에 input하기 전, 각 기사 시퀀스의 길이를 맞추는 작업을 진행한다.\n",
    "  - maxlen = max_length = 500 : 모든 기사의 길이를 최대 500으로 맞춘다. (median=537 값을 참고하였다.)\n",
    "  - padding = padding_type = 'post' : 500자 이하의 기사 경우, 뒷부분 빈 공간을 0으로 채운다.\n",
    "  - truncating = trunc_type = 'post' : 500자 이상의 기사인 경우, 뒷부분 초과된 시퀀스를 지운다.\n",
    "  \n",
    "* get_dummies(y) : 예를 들어, [1,2]의 형태를 [[1,0],[0,1]]의 형태로 바꿔준다. (for multi class classification)\n",
    "\n",
    "\n",
    "train set으로 피팅한 tokenizer를 train/valid set 모두에 적용한 뒤, 각 시퀀스를 np.array로 바꿔준다."
   ]
  },
  {
   "cell_type": "code",
   "execution_count": 12,
   "metadata": {},
   "outputs": [],
   "source": [
    "def get_sequences(x, y):\n",
    "    x = tokenizer.texts_to_sequences(x)\n",
    "    x = pad_sequences(x, maxlen = max_length, padding = padding_type, truncating = trunc_type)\n",
    "    y = np.asarray(y)\n",
    "    y = pd.get_dummies(y)\n",
    "    \n",
    "    x = np.array(x) ; y = np.array(y)\n",
    "    return x, y\n",
    "\n",
    "train_x, train_y = get_sequences(train_x, train_y)\n",
    "valid_x, valid_y = get_sequences(valid_x, valid_y)"
   ]
  },
  {
   "cell_type": "markdown",
   "metadata": {},
   "source": [
    "y의 shape의 경우, SECTION이 총 네 개였기 때문에 (n, 4)가 된다."
   ]
  },
  {
   "cell_type": "code",
   "execution_count": 13,
   "metadata": {},
   "outputs": [
    {
     "name": "stdout",
     "output_type": "stream",
     "text": [
      "(6040, 500)\n",
      "(6040, 4)\n",
      "(1511, 500)\n",
      "(1511, 4)\n"
     ]
    }
   ],
   "source": [
    "print(train_x.shape)\n",
    "print(train_y.shape)\n",
    "\n",
    "print(valid_x.shape)\n",
    "print(valid_y.shape)"
   ]
  },
  {
   "cell_type": "markdown",
   "metadata": {},
   "source": [
    "### embedding matrix - GloVe\n",
    "\n",
    "pretrained word embeddings인 GloVe를 사용한다. 여러 버전 중, 400,000개의 단어를 200차원으로 표현한 파일을 다운로드받아 사용한다."
   ]
  },
  {
   "cell_type": "code",
   "execution_count": 57,
   "metadata": {},
   "outputs": [
    {
     "name": "stdout",
     "output_type": "stream",
     "text": [
      "100% [......................................................................] 862182613 / 862182613"
     ]
    },
    {
     "data": {
      "text/plain": [
       "'glove.6B.zip'"
      ]
     },
     "execution_count": 57,
     "metadata": {},
     "output_type": "execute_result"
    }
   ],
   "source": [
    "wget.download('http://nlp.stanford.edu/data/glove.6B.zip')"
   ]
  },
  {
   "cell_type": "code",
   "execution_count": 14,
   "metadata": {},
   "outputs": [],
   "source": [
    "zipfile.ZipFile('glove.6B.zip').extractall()"
   ]
  },
  {
   "cell_type": "code",
   "execution_count": 32,
   "metadata": {},
   "outputs": [
    {
     "data": {
      "text/plain": [
       "34622"
      ]
     },
     "execution_count": 32,
     "metadata": {},
     "output_type": "execute_result"
    }
   ],
   "source": [
    "len(tokenizer.word_index.items())"
   ]
  },
  {
   "cell_type": "code",
   "execution_count": 37,
   "metadata": {},
   "outputs": [],
   "source": [
    "path_to_glove_file = './glove.6B.200d.txt'\n",
    "num_tokens = len(tokenizer.word_index.items())\n",
    "embedding_dim = 200\n",
    "hits = 0\n",
    "misses = 0"
   ]
  },
  {
   "cell_type": "markdown",
   "metadata": {},
   "source": [
    "embedding matrix 생성 관련 함수 설명은 코드 내 주석 참고하면 된다."
   ]
  },
  {
   "cell_type": "code",
   "execution_count": 38,
   "metadata": {},
   "outputs": [
    {
     "name": "stdout",
     "output_type": "stream",
     "text": [
      "Found 400000 word vectors.\n"
     ]
    }
   ],
   "source": [
    "embeddings_index = {}\n",
    "\n",
    "with open(path_to_glove_file, encoding='UTF8') as f :\n",
    "    for line in f :\n",
    "        # glove.6B.200d.txt 파일은 word coef1 coef2 .. coef200 형식으로 되어있으므로 첫번째 separator로 split하여 word, coefs 구분\n",
    "        word, coefs = line.split(maxsplit=1)\n",
    "        # 각 coefs들을 separator 기준으로 각각의 coef로 쪼갠다.\n",
    "        coefs = np.fromstring(coefs, 'f', sep=' ')\n",
    "        # embeddings_index 딕셔너리에 word, coefs를 각각 key, value로 추가한다.\n",
    "        embeddings_index[word] = coefs\n",
    "        \n",
    "print('Found %s word vectors.' % len(embeddings_index))"
   ]
  },
  {
   "cell_type": "code",
   "execution_count": 39,
   "metadata": {},
   "outputs": [
    {
     "name": "stdout",
     "output_type": "stream",
     "text": [
      "Converted 25534 words (9088 misses)\n"
     ]
    }
   ],
   "source": [
    "embedding_matrix = np.zeros((num_tokens, embedding_dim))\n",
    "\n",
    "for word, i in tokenizer.word_index.items() :\n",
    "    # train set 내 word에 대응하는 coefs vector를 가져온다.\n",
    "    embedding_vector = embeddings_index.get(word)\n",
    "    if embedding_vector is not None :\n",
    "        # train set 내 word가 embedding index 딕셔너리(from GloVe)에 존재하는 경우, embedding_matrix에 추가한다.\n",
    "        embedding_matrix[i] = embedding_vector\n",
    "        hits += 1\n",
    "    else :\n",
    "        # train set 내 word가 embedding index 딕셔너리(from GloVe)에 존재하지 않는 경우, 0벡터로 남는다.\n",
    "        misses += 1\n",
    "        \n",
    "print('Converted %d words (%d misses)' % (hits, misses))"
   ]
  },
  {
   "cell_type": "markdown",
   "metadata": {},
   "source": [
    "embedding matrix 생성 결과, 트레인셋 내 총 25534개의 단어의 coefs vector를 embedding_matrix에 추가할 수 있었다."
   ]
  },
  {
   "cell_type": "markdown",
   "metadata": {},
   "source": [
    "### baseline model\n",
    "\n",
    "우선 캐글의 비슷한 주제 competition을 찾아, 참고 코드를 baseline model로 활용하였다.\n",
    "\n",
    "https://www.kaggle.com/derinrobert/newsclassification-using-lstm"
   ]
  },
  {
   "cell_type": "code",
   "execution_count": 17,
   "metadata": {},
   "outputs": [
    {
     "name": "stdout",
     "output_type": "stream",
     "text": [
      "Model: \"sequential\"\n",
      "_________________________________________________________________\n",
      "Layer (type)                 Output Shape              Param #   \n",
      "=================================================================\n",
      "embedding (Embedding)        (None, None, 200)         6924800   \n",
      "_________________________________________________________________\n",
      "bidirectional (Bidirectional (None, 512)               935936    \n",
      "_________________________________________________________________\n",
      "dense (Dense)                (None, 4)                 2052      \n",
      "=================================================================\n",
      "Total params: 7,862,788\n",
      "Trainable params: 937,988\n",
      "Non-trainable params: 6,924,800\n",
      "_________________________________________________________________\n"
     ]
    }
   ],
   "source": [
    "# epoch이 진행됨에 따라 loss가 0.0001만큼의 변동이 3번 이상이면 더이상 훈련하지 않고 멈춘다.\n",
    "early_stop = tf.keras.callbacks.EarlyStopping(monitor='val_loss', patience=3, min_delta=0.0001)\n",
    "\n",
    "tf.keras.backend.clear_session()\n",
    "embed_size = 200\n",
    "\n",
    "model = keras.models.Sequential([\n",
    "    Embedding(num_tokens,\n",
    "              embedding_dim,\n",
    "              # 위에서 생성한 pretrained embedding matrix\n",
    "              embeddings_initializer = keras.initializers.Constant(embedding_matrix),\n",
    "              # not result in returning a zero vector\n",
    "              mask_zero = True,\n",
    "              input_shape = [None],\n",
    "              # 아래 dense layer만 훈련\n",
    "              trainable = False),\n",
    "    keras.layers.Bidirectional(keras.layers.LSTM(256, dropout=0.4)),\n",
    "    keras.layers.Dense(4, activation = 'softmax')\n",
    "])\n",
    "\n",
    "model.summary()"
   ]
  },
  {
   "cell_type": "code",
   "execution_count": 42,
   "metadata": {
    "scrolled": true
   },
   "outputs": [
    {
     "name": "stdout",
     "output_type": "stream",
     "text": [
      "Epoch 1/10\n",
      "189/189 [==============================] - 2435s 13s/step - loss: 0.3582 - accuracy: 0.8760 - val_loss: 0.2879 - val_accuracy: 0.9199\n",
      "Epoch 2/10\n",
      "189/189 [==============================] - 2299s 12s/step - loss: 0.1954 - accuracy: 0.9391 - val_loss: 0.1846 - val_accuracy: 0.9471\n",
      "Epoch 3/10\n",
      "189/189 [==============================] - 2610s 14s/step - loss: 0.2804 - accuracy: 0.9076 - val_loss: 0.2149 - val_accuracy: 0.9345\n",
      "Epoch 4/10\n",
      "189/189 [==============================] - 1617s 9s/step - loss: 0.1460 - accuracy: 0.9525 - val_loss: 0.1329 - val_accuracy: 0.9590\n",
      "Epoch 5/10\n",
      "189/189 [==============================] - 1210s 6s/step - loss: 0.1165 - accuracy: 0.9623 - val_loss: 0.1712 - val_accuracy: 0.9497\n",
      "Epoch 6/10\n",
      "189/189 [==============================] - 1909s 10s/step - loss: 0.1012 - accuracy: 0.9682 - val_loss: 0.1374 - val_accuracy: 0.9596\n",
      "Epoch 7/10\n",
      "189/189 [==============================] - 2514s 13s/step - loss: 0.0820 - accuracy: 0.9743 - val_loss: 0.1052 - val_accuracy: 0.9662\n",
      "Epoch 8/10\n",
      "189/189 [==============================] - 2552s 14s/step - loss: 0.0683 - accuracy: 0.9772 - val_loss: 0.1142 - val_accuracy: 0.9643\n",
      "Epoch 9/10\n",
      "189/189 [==============================] - 2665s 14s/step - loss: 0.0572 - accuracy: 0.9805 - val_loss: 0.1018 - val_accuracy: 0.9722\n",
      "Epoch 10/10\n",
      "189/189 [==============================] - 2926s 15s/step - loss: 0.0492 - accuracy: 0.9838 - val_loss: 0.0946 - val_accuracy: 0.9696\n"
     ]
    }
   ],
   "source": [
    "model.compile(loss = 'categorical_crossentropy',\n",
    "              optimizer = keras.optimizers.Adam(learning_rate = 0.001),\n",
    "              metrics = ['accuracy'])\n",
    "\n",
    "# batch size 32, epoch 10으로 설정하여 훈련시킨다.\n",
    "history = model.fit(train_x, train_y,\n",
    "                    batch_size = 32,\n",
    "                    validation_data = (valid_x, valid_y),\n",
    "                    epochs = 10,\n",
    "                    callbacks = early_stop)"
   ]
  },
  {
   "cell_type": "markdown",
   "metadata": {},
   "source": [
    "훈련 결과, accuracy와 loss(cross entropy) 값을 비교했다.\n",
    "\n",
    "과적합이 일어나지 않았고, validation set accuracy도 0.96을 웃돌 정도로 매우 높다. epoch을 더 늘려 훈련시키면 보다 높은 성능을 기대해볼 수 있겠다."
   ]
  },
  {
   "cell_type": "code",
   "execution_count": 43,
   "metadata": {
    "scrolled": true
   },
   "outputs": [
    {
     "data": {
      "text/plain": [
       "<matplotlib.legend.Legend at 0x2dc84b45c70>"
      ]
     },
     "execution_count": 43,
     "metadata": {},
     "output_type": "execute_result"
    },
    {
     "data": {
      "image/png": "[encoded data removed]",
      "text/plain": [
       "<Figure size 720x720 with 2 Axes>"
      ]
     },
     "metadata": {
      "needs_background": "light"
     },
     "output_type": "display_data"
    }
   ],
   "source": [
    "fig = plt.figure(figsize=(10,10))\n",
    "\n",
    "# accuracy\n",
    "plt.subplot(221)\n",
    "plt.plot(history.history['accuracy'],'bo-', label = \"acc\")\n",
    "plt.plot(history.history['val_accuracy'], 'ro-', label = \"val_acc\")\n",
    "plt.title(\"train_accuracy vs val_accuracy\")\n",
    "plt.ylabel(\"accuracy\")\n",
    "plt.xlabel(\"epochs\")\n",
    "plt.grid(True)\n",
    "plt.legend()\n",
    "\n",
    "# loss function\n",
    "plt.subplot(222)\n",
    "plt.plot(history.history['loss'],'bo-', label = \"loss\")\n",
    "plt.plot(history.history['val_loss'], 'ro-', label = \"val_loss\")\n",
    "plt.title(\"train_loss vs val_loss\")\n",
    "plt.ylabel(\"loss\")\n",
    "plt.xlabel(\"epochs\")\n",
    "plt.grid(True)\n",
    "plt.legend()"
   ]
  },
  {
   "cell_type": "markdown",
   "metadata": {},
   "source": [
    "### predict\n",
    "\n",
    "kaggle에서 참고한 baseline 모델로 predict하여 성능을 확인한다."
   ]
  },
  {
   "cell_type": "code",
   "execution_count": 44,
   "metadata": {},
   "outputs": [],
   "source": [
    "classes = train.SECTION.value_counts().index\n",
    "\n",
    "def prediction(inference_data):\n",
    "    X = tokenizer.texts_to_sequences(inference_data)\n",
    "    X = pad_sequences(X, maxlen= max_length, padding=padding_type, truncating=trunc_type)\n",
    "    pred = model.predict(X)\n",
    "    pred_value = tf.argmax(pred,axis =1).numpy()                \n",
    "    return pred_value"
   ]
  },
  {
   "cell_type": "code",
   "execution_count": 45,
   "metadata": {},
   "outputs": [],
   "source": [
    "test_x = test.STORY\n",
    "\n",
    "y_pred = prediction(test_x)"
   ]
  },
  {
   "cell_type": "code",
   "execution_count": 92,
   "metadata": {},
   "outputs": [],
   "source": [
    "submission.SECTION = y_pred\n",
    "\n",
    "submission.to_csv('submission_baseline.csv', index=True)"
   ]
  },
  {
   "cell_type": "markdown",
   "metadata": {},
   "source": [
    "### My model\n",
    "\n",
    "baseline model에서는 bidirectional recurrent layer를 이용해 훈련시켰다.  \n",
    "위 모델로도 뛰어난 성능을 보이지만, convolutional layer를 추가해 성능 향상을 시도하였다.\n",
    "\n",
    "위 baseline model에서도 적은 hidden layers로도 높은 성능을 보였기 때문에,\n",
    "my model에서도 layer를 깊게 쌓지 않았다."
   ]
  },
  {
   "cell_type": "code",
   "execution_count": 103,
   "metadata": {},
   "outputs": [
    {
     "name": "stdout",
     "output_type": "stream",
     "text": [
      "Model: \"sequential\"\n",
      "_________________________________________________________________\n",
      "Layer (type)                 Output Shape              Param #   \n",
      "=================================================================\n",
      "embedding (Embedding)        (None, None, 200)         6924400   \n",
      "_________________________________________________________________\n",
      "conv1d (Conv1D)              (None, None, 64)          128064    \n",
      "_________________________________________________________________\n",
      "max_pooling1d (MaxPooling1D) (None, None, 64)          0         \n",
      "_________________________________________________________________\n",
      "conv1d_1 (Conv1D)            (None, None, 32)          20512     \n",
      "_________________________________________________________________\n",
      "global_max_pooling1d (Global (None, 32)                0         \n",
      "_________________________________________________________________\n",
      "dense (Dense)                (None, 4)                 132       \n",
      "=================================================================\n",
      "Total params: 7,073,108\n",
      "Trainable params: 148,708\n",
      "Non-trainable params: 6,924,400\n",
      "_________________________________________________________________\n"
     ]
    }
   ],
   "source": [
    "early_stop = tf.keras.callbacks.EarlyStopping(monitor='val_loss', patience=3, min_delta=0.0001)\n",
    "\n",
    "tf.keras.backend.clear_session()\n",
    "embed_size = 200\n",
    "\n",
    "model = keras.models.Sequential([\n",
    "    Embedding(num_tokens, embedding_dim, embeddings_initializer = keras.initializers.Constant(embedding_matrix),\n",
    "              mask_zero = True, input_shape = [None], trainable = False),\n",
    "    keras.layers.Conv1D(64, 10, activation='relu'),\n",
    "    keras.layers.MaxPooling1D(10),\n",
    "    keras.layers.Conv1D(32, 10, activation='relu'),\n",
    "    keras.layers.GlobalMaxPooling1D(),\n",
    "    keras.layers.Dense(4, activation = 'softmax')\n",
    "])\n",
    "\n",
    "model.summary()"
   ]
  },
  {
   "cell_type": "code",
   "execution_count": 106,
   "metadata": {},
   "outputs": [
    {
     "name": "stdout",
     "output_type": "stream",
     "text": [
      "Epoch 1/20\n",
      "189/189 [==============================] - 26s 132ms/step - loss: 0.0082 - accuracy: 0.9975 - val_loss: 0.1657 - val_accuracy: 0.9636\n",
      "Epoch 2/20\n",
      "189/189 [==============================] - 25s 131ms/step - loss: 0.0086 - accuracy: 0.9972 - val_loss: 0.1619 - val_accuracy: 0.9616\n",
      "Epoch 3/20\n",
      "189/189 [==============================] - 25s 131ms/step - loss: 0.0264 - accuracy: 0.9916 - val_loss: 0.1657 - val_accuracy: 0.9590\n",
      "Epoch 4/20\n",
      "189/189 [==============================] - 25s 131ms/step - loss: 0.0303 - accuracy: 0.9916 - val_loss: 0.1707 - val_accuracy: 0.9576\n",
      "Epoch 5/20\n",
      "189/189 [==============================] - 25s 130ms/step - loss: 0.0042 - accuracy: 0.9992 - val_loss: 0.1813 - val_accuracy: 0.9643\n"
     ]
    }
   ],
   "source": [
    "model.compile(loss = 'categorical_crossentropy',\n",
    "              optimizer = keras.optimizers.Adam(learning_rate = 0.001),\n",
    "              metrics = ['accuracy'])\n",
    "\n",
    "# batch size 32, epoch 20으로 설정하여 훈련시킨다.\n",
    "history = model.fit(train_x, train_y,\n",
    "                    batch_size = 32,\n",
    "                    validation_data = (valid_x, valid_y),\n",
    "                    epochs = 20,\n",
    "                    callbacks = early_stop)"
   ]
  },
  {
   "cell_type": "markdown",
   "metadata": {},
   "source": [
    "early stopping rule에 따라 epoch=5에서 훈련이 종료되었으며,  \n",
    "convolutional layer을 추가함에 따라 6시간 넘게 소요되었던 위 bidirectional RNN에 비해 3분도 안되는 시간 안에 높은 accuracy로 훈련이 종료되었다."
   ]
  },
  {
   "cell_type": "code",
   "execution_count": 107,
   "metadata": {
    "scrolled": true
   },
   "outputs": [
    {
     "data": {
      "text/plain": [
       "<matplotlib.legend.Legend at 0x2dc95998ca0>"
      ]
     },
     "execution_count": 107,
     "metadata": {},
     "output_type": "execute_result"
    },
    {
     "data": {
      "image/png": "[encoded data removed]",
      "text/plain": [
       "<Figure size 720x720 with 2 Axes>"
      ]
     },
     "metadata": {
      "needs_background": "light"
     },
     "output_type": "display_data"
    }
   ],
   "source": [
    "fig = plt.figure(figsize=(10,10))\n",
    "\n",
    "# accuracy\n",
    "plt.subplot(221)\n",
    "plt.plot(history.history['accuracy'],'bo-', label = \"acc\")\n",
    "plt.plot(history.history['val_accuracy'], 'ro-', label = \"val_acc\")\n",
    "plt.title(\"train_accuracy vs val_accuracy\")\n",
    "plt.ylabel(\"accuracy\")\n",
    "plt.xlabel(\"epochs\")\n",
    "plt.grid(True)\n",
    "plt.legend()\n",
    "\n",
    "# loss function\n",
    "plt.subplot(222)\n",
    "plt.plot(history.history['loss'],'bo-', label = \"loss\")\n",
    "plt.plot(history.history['val_loss'], 'ro-', label = \"val_loss\")\n",
    "plt.title(\"train_loss vs val_loss\")\n",
    "plt.ylabel(\"loss\")\n",
    "plt.xlabel(\"epochs\")\n",
    "plt.grid(True)\n",
    "plt.legend()"
   ]
  },
  {
   "cell_type": "markdown",
   "metadata": {},
   "source": [
    "### predict\n",
    "\n",
    "My model로 predict하여 성능을 확인한다."
   ]
  },
  {
   "cell_type": "code",
   "execution_count": 108,
   "metadata": {},
   "outputs": [],
   "source": [
    "test_x = test.STORY\n",
    "\n",
    "y_pred = prediction(test_x)"
   ]
  },
  {
   "cell_type": "code",
   "execution_count": 109,
   "metadata": {},
   "outputs": [],
   "source": [
    "submission.SECTION = y_pred\n",
    "\n",
    "submission.to_csv('submission_mymodel.csv', index=True)"
   ]
  },
  {
   "cell_type": "markdown",
   "metadata": {},
   "source": [
    "classification이 잘 되었는지 각 SECTION 별로 기사 성향이 비슷한지 확인한다."
   ]
  },
  {
   "cell_type": "code",
   "execution_count": 110,
   "metadata": {},
   "outputs": [],
   "source": [
    "pred_set = pd.DataFrame({'STORY' : pd.Series(tokenizer.texts_to_sequences(test_x)),\n",
    "                         'SECTION' : y_pred})"
   ]
  },
  {
   "cell_type": "code",
   "execution_count": 111,
   "metadata": {},
   "outputs": [],
   "source": [
    "def get_freq_words(num, counter) :\n",
    "    # 특정 SECTION에 대한 데이터프레임\n",
    "    df_part = pred_set.loc[pred_set.SECTION==num, :].reset_index(drop=True)\n",
    "    \n",
    "    # 특정 SECTION 내 모든 단어(시퀀스 내 숫자)를 가져옴\n",
    "    all_words = []\n",
    "    for line in df_part.STORY : all_words += line\n",
    "    \n",
    "    # 각 단어의 개수를 세어, counter(e.g. 200)보다 많은 빈도만큼 나타난 단어(시퀀스 내 숫자)만 가져옴\n",
    "    cnt = Counter(all_words)\n",
    "    freq_num = []\n",
    "    for key, value in cnt.items() :\n",
    "        if value >= counter : freq_num.append(key)\n",
    "    \n",
    "    # tokenizer.word_index의 (word:number) 딕셔너리 자료를 이용해, 시퀀스 숫자에 상응하는 영단어를 가져옴\n",
    "    freq_words = []\n",
    "    for f in freq_num :\n",
    "        for word, i in tokenizer.word_index.items() :\n",
    "            if f==i : freq_words.append(word)\n",
    "    \n",
    "    print(freq_words)"
   ]
  },
  {
   "cell_type": "markdown",
   "metadata": {},
   "source": [
    "꽤 비슷한 카테고리 별로 분류되었음을 확인할 수 있다."
   ]
  },
  {
   "cell_type": "code",
   "execution_count": 112,
   "metadata": {
    "scrolled": true
   },
   "outputs": [
    {
     "name": "stdout",
     "output_type": "stream",
     "text": [
      "['the', 'is', 'with', 'a', 'to', 'and', '<OOV>', 'said', 'that', 'in', 'this', 'have', 'it', 'state', 'of', 'he', 'minister', 'was', 'by', 'be', 'as', 'for', 'from', 'his', 'lok', 'sabha', 'on', 'has', 'not', 'who', 'are', 'elections', 'been', 'at', 'bjp', 'modi', 'party', 'an', 'congress', 'will', 'its', 'but']\n",
      "['will', 'like', 'smartphones', 'and', 'the', 'to', 'a', 'new', 'india', '<OOV>', 'technology', 'in', 'have', 'an', 'of', 'with', 'on', 'be', 'or', 'year', 'we', 'can', 'are', 'from', 'they', 'up', 'display', 'phone', 'has', 'while', 'is', 'smartphone', 'said', 'it', 'apple', 'also', 'been', 'by', 'its', 'for', 'their', 'camera', 'note', '6', '2', '7', 'pro', 'you', 'out', 'more', 'that', 'at', 'one', 'this', 'but', 'as', 'not', 'about', 'app', 'which', 'google', 'was', 'would', 'company', 'data', 'redmi', 'all', 'than', 'users', '1', 'samsung', 'people', 'facebook', 'other', 'oneplus', 'galaxy']\n",
      "['it', 'has', 'also', 'a', 'of', 'in', 'the', 'that', 'will', 'is', 'had', 'and', 'to', 'when', 'i', '<OOV>', 'film', 'they', 'you', 'for', 'films', 'was', 'by', 'which', 'at', 'up', 'on', 'his', 'she', 'be', 'he', 'but', 'her', 'not', 'said', '”', 'who', 'from', 'as', 'like', 'with', 'about', 'one', 'this', 'actor', 'all', 'avengers', 'have', 'been', 'their', 'we', 'movie', 'after', 'are', 'an']\n",
      "['on', 'the', 'shares', 'of', 'and', 'crore', 'from', 'that', 'it', 'is', 'to', 'its', 'a', 'market', 'in', 'at', 'for', 'also', 'by', 'ltd', 'price', 'will', 'be', 'than', 'said', 'growth', 'has', 'this', 'are', '<OOV>', 'after', 'year', 'as', 'more', '1', 'dollar', 'prices', 'india', 'up', '0', 'was', 'per', 'an', '10', 'have', '5', 'which', 'with', 'investors', 'been', 'us']\n"
     ]
    }
   ],
   "source": [
    "get_freq_words(0, 200) # state, minister, elections, party, congress : 정치\n",
    "get_freq_words(1, 200) # smartphones, technology, display, phone, camera, app, google, data, samsung, galaxy : IT 과학\n",
    "get_freq_words(2, 100) # film, actor, avengers, movie : 연예, 예술\n",
    "get_freq_words(3, 75) # shares, market, growth, dollar, prices, investors : 경제"
   ]
  },
  {
   "cell_type": "markdown",
   "metadata": {},
   "source": [
    "### result\n",
    "\n",
    "test set 예측 결과를 공모전 사이트에 제출하여 스코어(accuracy)를 확인한 결과는 아래와 같다.\n",
    "\n",
    "* baseline model : 0.96143\n",
    "* my model : 0.96470\n",
    "\n",
    "두 모델의 스코어는 비슷하지만, computing resource를 감안하였을 때 my model의 성능이 더 높다고 결론지을 수 있겠다.\n",
    "\n",
    "* baseline model : 10 epochs, more than 6 hours\n",
    "* my model : 5 epochs, less than 5 minutes"
   ]
  }
 ],
 "metadata": {
  "kernelspec": {
   "display_name": "Python 3",
   "language": "python",
   "name": "python3"
  },
  "language_info": {
   "codemirror_mode": {
    "name": "ipython",
    "version": 3
   },
   "file_extension": ".py",
   "mimetype": "text/x-python",
   "name": "python",
   "nbconvert_exporter": "python",
   "pygments_lexer": "ipython3",
   "version": "3.8.5"
  }
 },
 "nbformat": 4,
 "nbformat_minor": 4
}
